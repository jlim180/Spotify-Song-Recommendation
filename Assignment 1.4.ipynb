{
 "cells": [
  {
   "cell_type": "code",
   "execution_count": null,
   "id": "2fe1cc24-f838-4a1a-aa64-6e41881f76f5",
   "metadata": {},
   "outputs": [],
   "source": [
    "import pandas as pd\n",
    "from sklearn.cluster import KMeans, DBSCAN, AgglomerativeClustering\n",
    "import matplotlib.pyplot as plt\n",
    "import seaborn as sns\n",
    "from scipy import stats\n",
    "import numpy as np\n",
    "from sklearn.decomposition import PCA\n",
    "\n",
    "\n",
    "tracks_df = pd.read_csv(\"C:/Users/14087/Downloads/spotify_tracks.csv\")\n",
    "tracks_df.head()"
   ]
  },
  {
   "cell_type": "code",
   "execution_count": null,
   "id": "2fac4c9c-e2a4-4009-b301-3ccca8a527b0",
   "metadata": {},
   "outputs": [],
   "source": [
    "#removed duplicates\n",
    "tracks_df = tracks_df.groupby(['track_name', 'artists']).first().reset_index()\n",
    "tracks_df.shape"
   ]
  },
  {
   "cell_type": "code",
   "execution_count": null,
   "id": "d60a3f99-af83-4c17-82c2-62f63a69c003",
   "metadata": {},
   "outputs": [],
   "source": [
    "#histogram \n",
    "tracks_df.hist(bins = 30, figsize=(20,15))\n",
    "plt.suptitle(\"Histograms for each variables\")\n",
    "plt.show()"
   ]
  },
  {
   "cell_type": "code",
   "execution_count": null,
   "id": "2eab247f-c61e-4785-b2a9-d873994508d0",
   "metadata": {},
   "outputs": [],
   "source": [
    "#heatmap\n",
    "numeric_df = tracks_df.drop(columns=['track_id', 'artists', 'album_name', 'track_name', 'track_genre'])\n",
    "corr = numeric_df.corr()"
   ]
  },
  {
   "cell_type": "code",
   "execution_count": null,
   "id": "e0a9d490-1a11-46d8-be08-f505bbe2cdba",
   "metadata": {},
   "outputs": [],
   "source": [
    "#strong relationship between variables\n",
    "plt.scatter(x='loudness', y='energy', data=tracks_df, s=0.5) \n",
    "plt.suptitle(\"Scatter plot of the relationship between Loudness and Energy\")\n",
    "plt.xlabel('Loudness') \n",
    "plt.ylabel('Energy') \n",
    "plt.show() "
   ]
  },
  {
   "cell_type": "code",
   "execution_count": null,
   "id": "fcdb2e94-5997-4d94-9a6d-176a00dc098c",
   "metadata": {},
   "outputs": [],
   "source": [
    "plt.scatter(x='energy', y='acousticness', data=tracks_df, s=0.5) \n",
    "plt.suptitle(\"Scatter plot of the relationship between Energy and Acousticness\")\n",
    "plt.xlabel('Energy') \n",
    "plt.ylabel('Acousticness') \n",
    "plt.show()"
   ]
  },
  {
   "cell_type": "code",
   "execution_count": null,
   "id": "8e44e41f-fd9b-4bbe-8e7b-cd802532c225",
   "metadata": {},
   "outputs": [],
   "source": [
    "plt.figure(figsize=(20,15))\n",
    "sns.heatmap(corr, annot=True, cmap='coolwarm', fmt='.2f', linewidths=0.5, square=True)\n",
    "plt.title('Correlation Matrix Heatmap')\n",
    "plt.show()"
   ]
  },
  {
   "cell_type": "code",
   "execution_count": null,
   "id": "a278756f-8822-4000-a56f-3b2bafac04c4",
   "metadata": {},
   "outputs": [],
   "source": [
    "#To avoid TypeErrors\n",
    "numeric_columns = ['acousticness', 'danceability', 'duration_ms', 'energy', 'instrumentalness', \n",
    "                   'key', 'liveness', 'loudness', 'mode', ‘popularity’, 'speechiness', 'tempo',               \n",
    "       'time_signature', 'valence']  # Adjust this list based on your actual numeric columns\n",
    "\n",
    "numeric_df = tracks_df[numeric_columns]\n",
    "numeric_df = numeric_df.dropna(subset=numeric_columns)"
   ]
  },
  {
   "cell_type": "code",
   "execution_count": null,
   "id": "16d27ecf-96e4-4c57-844b-8b81ad36bd06",
   "metadata": {},
   "outputs": [],
   "source": [
    "# Z-score method to get rid of outliers\n",
    "def RemoveOutliersZScore(df, threshold=3):\n",
    "    z_scores = stats.zscore(df)\n",
    "    abs_z_scores = abs(z_scores)\n",
    "    filtered_entries = (abs_z_scores < threshold).all(axis=1)\n",
    "    return df[filtered_entries]"
   ]
  },
  {
   "cell_type": "code",
   "execution_count": null,
   "id": "e23ec138-fad3-4d60-a33f-9e914534ccb1",
   "metadata": {},
   "outputs": [],
   "source": [
    "# Applying method to df\n",
    "Trimmed_df = RemoveOutliersZScore(numeric_df)"
   ]
  },
  {
   "cell_type": "code",
   "execution_count": null,
   "id": "094e7929-0ac2-44ff-9383-ecca28cfbb64",
   "metadata": {},
   "outputs": [],
   "source": [
    "# Showing before and after of df\n",
    "print(f\"Original df:\\n{numeric_df.shape}\")\n",
    "print(f\"Updated df:\\n{Trimmed_df.shape}\")"
   ]
  },
  {
   "cell_type": "code",
   "execution_count": null,
   "id": "b5e4cf58-e32a-4cc0-b91b-530d8c62b86f",
   "metadata": {},
   "outputs": [],
   "source": [
    "# Elbow Method\n",
    "def ElbowMethod(df):\n",
    "    Sum_Of_Distance = []\n",
    "    for i in range(1, 11):\n",
    "        kmeans = KMeans(n_clusters=i, random_state=42)\n",
    "        kmeans.fit(df)\n",
    "        Sum_Of_Distance.append(kmeans.inertia_)\n",
    "    plt.figure(figsize=(10, 6))\n",
    "    plt.plot(range(1, 11), Sum_Of_Distance, marker='o')\n",
    "    plt.title('Elbow Method')\n",
    "    plt.xlabel('Number of clusters')\n",
    "    plt.ylabel('Error')\n",
    "    plt.show()"
   ]
  },
  {
   "cell_type": "code",
   "execution_count": null,
   "id": "efad7d5c-6ffc-436b-9883-972ba4c8d546",
   "metadata": {},
   "outputs": [],
   "source": [
    "# Showing the optimal amount of clusters\n",
    "ElbowMethod(Trimmed_df)\n",
    "\n",
    "subsampled_df = Trimmed_df.sample(frac=0.005, random_state=42)"
   ]
  },
  {
   "cell_type": "code",
   "execution_count": null,
   "id": "aacfbe66-e957-4ab5-a0c2-e7b416ccfd4c",
   "metadata": {},
   "outputs": [],
   "source": [
    "# Apply PCA to reduce the number of dimensions to 2\n",
    "pca = PCA(n_components=2)\n",
    "reduced_data = pca.fit_transform(subsampled_df)"
   ]
  },
  {
   "cell_type": "code",
   "execution_count": null,
   "id": "823f19ea-7356-444b-bb1c-0f3c221cfd04",
   "metadata": {},
   "outputs": [],
   "source": [
    "# KMeans Clustering\n",
    "\n",
    "kmeans = KMeans(n_clusters=5, random_state=42)\n",
    "kmeans.fit(Trimmed_df)"
   ]
  },
  {
   "cell_type": "code",
   "execution_count": null,
   "id": "958c4662-9477-460d-a066-c5a654cb2275",
   "metadata": {},
   "outputs": [],
   "source": [
    "# Ensure indices and lengths match before assignment (added for Part 3)\n",
    "if len(kmeans.labels_) == len(Trimmed_df.index):\n",
    "    tracks_df.loc[Trimmed_df.index, 'kmeans_cluster'] = kmeans.labels_\n",
    "    # Fill NaN values with a placeholder (e.g., -1) before converting to integers\n",
    "    tracks_df['kmeans_cluster'].fillna(-1, inplace=True)\n",
    "    tracks_df['kmeans_cluster'] = tracks_df['kmeans_cluster'].astype(int)  # Ensure the cluster labels are integers\n",
    "else:\n",
    "    print(\"Error: Mismatch in length of indices and KMeans labels.\")"
   ]
  },
  {
   "cell_type": "code",
   "execution_count": null,
   "id": "d522e3c6-0287-41b8-9698-048cf2493a0d",
   "metadata": {},
   "outputs": [],
   "source": [
    "# Print unique values in kmeans_cluster to verify (added for Part 3)\n",
    "print(tracks_df['kmeans_cluster'].unique())"
   ]
  },
  {
   "cell_type": "code",
   "execution_count": null,
   "id": "ddc0b16e-f5e5-4438-aa2d-568ef3c59288",
   "metadata": {},
   "outputs": [],
   "source": [
    "#Function to plot clusters for reusability\n",
    "\n",
    "def plot_clusters(data, labels, title):\n",
    "    plt.figure(figsize=(10, 6))\n",
    "    sns.scatterplot(x='energy', y='acousticness', hue=labels, palette='viridis', data=data, s=50)\n",
    "    plt.title(title)\n",
    "    plt.xlabel('Energy')\n",
    "    plt.ylabel('Acousticness')\n",
    "    plt.legend(loc='best')\n",
    "    plt.show()\n",
    "    \n",
    "def plot_clusters_pca(data, reduced_data, labels, title):\n",
    "    plt.figure(figsize=(10, 6))\n",
    "    sns.scatterplot(x=reduced_data[:, 0], y=reduced_data[:, 1], hue=labels, palette='viridis', s=50)\n",
    "    plt.title(title)\n",
    "    plt.xlabel('Energy')\n",
    "    plt.ylabel('Acousticness')\n",
    "    plt.legend(loc='best')\n",
    "    plt.show()"
   ]
  },
  {
   "cell_type": "code",
   "execution_count": null,
   "id": "bff67b8f-ba2d-41b3-b934-2b2252208e20",
   "metadata": {},
   "outputs": [],
   "source": [
    "#Plotting Kmeans clustering\n",
    "plot_clusters(tracks_df, 'kmeans_cluster', 'KMeans Clusters')"
   ]
  },
  {
   "cell_type": "code",
   "execution_count": null,
   "id": "3c3a2ef9-3b28-405a-9a26-f963bca3592f",
   "metadata": {},
   "outputs": [],
   "source": [
    "#DBSCAN Clustering\n",
    "dbscan = DBSCAN(eps=0.1, min_samples=15)\n",
    "labels = dbscan.fit_predict(reduced_data)"
   ]
  },
  {
   "cell_type": "code",
   "execution_count": null,
   "id": "8b013175-d0ec-4d05-8213-489fda15d4f3",
   "metadata": {},
   "outputs": [],
   "source": [
    "# Add the labels to the df\n",
    "subsampled_df = subsampled_df.reset_index()\n",
    "subsampled_df['dbscan_cluster'] = labels\n",
    "\n",
    "plot_clusters_pca(subsampled_df, reduced_data, labels, 'DBSCAN Clustering with Adjusted Parameters')"
   ]
  },
  {
   "cell_type": "code",
   "execution_count": null,
   "id": "573b93fa-432b-49ad-a705-d8e506742bfb",
   "metadata": {},
   "outputs": [],
   "source": [
    "#Agglomerative Clustering\n",
    "Agglomerative = AgglomerativeClustering(n_clusters=5, linkage='ward')\n",
    "labels = Agglomerative.fit_predict(reduced_data)"
   ]
  },
  {
   "cell_type": "code",
   "execution_count": null,
   "id": "83b8b98e-6330-41ec-8765-ad9f93195cdd",
   "metadata": {},
   "outputs": [],
   "source": [
    "#Labels\n",
    "subsampled_df = subsampled_df.reset_index()\n",
    "subsampled_df['Agglomerative_Cluster'] = labels"
   ]
  },
  {
   "cell_type": "code",
   "execution_count": null,
   "id": "d5882232-dac7-45b8-8f45-941ec4754a63",
   "metadata": {},
   "outputs": [],
   "source": [
    "#Plotting Agglomerative Clustering\n",
    "plot_clusters_pca(subsampled_df, reduced_data, labels, 'Agglomerative Clustering with PCA Components')"
   ]
  },
  {
   "cell_type": "code",
   "execution_count": null,
   "id": "e56ab1b8-e5d1-4875-abb8-db922130658a",
   "metadata": {},
   "outputs": [],
   "source": [
    "# Only numeric columns are used\n",
    "numeric_df_with_clusters = tracks_df[numeric_columns + ['kmeans_cluster']]"
   ]
  },
  {
   "cell_type": "code",
   "execution_count": null,
   "id": "71749ff5-b75e-484b-a8d0-11932f66c591",
   "metadata": {},
   "outputs": [],
   "source": [
    "# Calculate the correlation matrix\n",
    "corr = numeric_df_with_clusters.corr()"
   ]
  },
  {
   "cell_type": "code",
   "execution_count": null,
   "id": "819a275b-fa28-4801-9988-812f1ed9524c",
   "metadata": {},
   "outputs": [],
   "source": [
    "# Check if all clusters are included\n",
    "clusters_present = tracks_df['kmeans_cluster'].unique()\n",
    "for cluster in clusters_present:\n",
    "    if cluster not in corr.index:\n",
    "        corr.loc[cluster] = [0] * len(corr.columns)\n",
    "        corr[cluster] = 0"
   ]
  },
  {
   "cell_type": "code",
   "execution_count": null,
   "id": "07927047-35b6-4064-9039-71b6f97b46cf",
   "metadata": {},
   "outputs": [],
   "source": [
    "# Print the correlation matrix\n",
    "print(corr)"
   ]
  },
  {
   "cell_type": "code",
   "execution_count": null,
   "id": "a5241141-00d4-48d9-bd77-2a2c6c247312",
   "metadata": {},
   "outputs": [],
   "source": [
    "# Remove duplicate songs\n",
    "tracks_df = tracks_df.drop_duplicates(subset=[\"artists\", \"track_name\"])"
   ]
  },
  {
   "cell_type": "code",
   "execution_count": null,
   "id": "3f40476f-97c5-4919-b798-f647d50512f6",
   "metadata": {},
   "outputs": [],
   "source": [
    "# Remove duplicate songs\n",
    "tracks_df = tracks_df.drop_duplicates(subset=[\"artists\", \"track_name\"])"
   ]
  },
  {
   "cell_type": "code",
   "execution_count": null,
   "id": "593eebee-aa87-45a6-92bc-d0823a052c18",
   "metadata": {},
   "outputs": [],
   "source": [
    "# Prompt favorite songs' names and artists(ensure they are string-based and not case sensitive)\n",
    "songs = input('Enter comma-separated song titles and artists of your favorite songs: (e.g: Let It Be - Remastered 2015:The Beatles)\\n> ').strip().split(',')\n",
    "songs = [song.strip().lower().split(':') for song in songs]\n",
    "song_names = []\n",
    "song_artists = []"
   ]
  },
  {
   "cell_type": "code",
   "execution_count": null,
   "id": "d4c90046-4106-49af-9702-9e2d891f42e7",
   "metadata": {},
   "outputs": [],
   "source": [
    "# Create list of names and artists\n",
    "for i in range(len(songs)):\n",
    "   for j in range(2):\n",
    "       songs[i][j] = songs[i][j].strip()\n",
    "   song_names.append(songs[i][0])\n",
    "   song_artists.append(songs[i][1])"
   ]
  },
  {
   "cell_type": "code",
   "execution_count": null,
   "id": "b1ebf960-846b-477f-af37-322bf31e3943",
   "metadata": {},
   "outputs": [],
   "source": [
    "# Filter for favorite songs\n",
    "favorites = tracks_df[tracks_df['track_name'].str.lower().str.strip().isin(song_names) &\n",
    "                     tracks_df['artists'].str.lower().str.strip().isin(song_artists)]"
   ]
  },
  {
   "cell_type": "code",
   "execution_count": null,
   "id": "48c5351e-9d55-4bcc-b036-6965582c238a",
   "metadata": {},
   "outputs": [],
   "source": [
    "# Find most frequent cluster\n",
    "clusters = favorites['kmeans_cluster'].value_counts()\n",
    "user_favorite_cluster = clusters.idxmax()\n",
    "\n",
    "print('\\nFavorite cluster:', user_favorite_cluster, '\\n')"
   ]
  },
  {
   "cell_type": "code",
   "execution_count": null,
   "id": "c7778c2d-af3e-4aff-81c0-818a8d663e42",
   "metadata": {},
   "outputs": [],
   "source": [
    "# Suggest songs\n",
    "suggestions = tracks_df[tracks_df['kmeans_cluster'] == user_favorite_cluster]"
   ]
  },
  {
   "cell_type": "code",
   "execution_count": null,
   "id": "04de0431-dd30-4ee6-a5c5-8a9592362f48",
   "metadata": {},
   "outputs": [],
   "source": [
    "#Function to collect user's mood and generate range\n",
    "def ask_mood():\n",
    "   mood = input('How would you rate your mood today on a scale of 1-5, where 1 is the worst and 5 is the best?\\n>')\n",
    "   mood_range = [0, 0]\n",
    "   mood=int(mood)\n",
    "   if(mood not in range(1,6)):\n",
    "       print(\"Invalid input, try again:\\n>\")\n",
    "   else:\n",
    "       mood = int(mood)\n",
    "       mood_range[0] = (mood-1)*(0.6)\n",
    "       mood_range[1] = mood_range[0]+0.6\n",
    "   return mood_range"
   ]
  },
  {
   "cell_type": "code",
   "execution_count": null,
   "id": "b17eadad-2d2f-498f-8dac-5209d869f08b",
   "metadata": {},
   "outputs": [],
   "source": [
    "#Ask a Y/N question for a situation\n",
    "def ask_situation(question, yes='Y', no='N'):\n",
    "   situation = input(question)\n",
    "   if(situation==yes):\n",
    "       return True\n",
    "   elif(situation==no):\n",
    "       return False\n",
    "   else:\n",
    "       print(\"Invalid input, try again:\")\n",
    "       return ask_situation(question)"
   ]
  },
  {
   "cell_type": "code",
   "execution_count": null,
   "id": "03d8a3d5-06d1-4eaf-a247-f78a74336bb1",
   "metadata": {},
   "outputs": [],
   "source": [
    "#Filter for specific situations\n",
    "def filter_situation():\n",
    "   track_sf = suggestions\n",
    "   wanted = ask_situation(\"Do you want further filtering? Y/N\\n>\")\n",
    "   if (not wanted):\n",
    "       return track_sf\n",
    "   pg = ask_situation(\"Are you with young children/family? Y/N\\n>\")\n",
    "   explicity = lambda x : track_sf[track_sf['explicit']==False] if x else track_sf\n",
    "   track_sf = explicity(pg)\n",
    "   sing = ask_situation(\"Are you looking for songs to sing along to? Y/N\\n>\")\n",
    "   singalong = lambda x : track_sf[track_sf['popularity']>=75] if x else track_sf\n",
    "   track_sf = singalong(sing)\n",
    "   dance = ask_situation(\"What about dance? Y/N\\n>\")\n",
    "   dancealong = lambda x : track_sf[track_sf['danceability']>0.8] if x else track_sf\n",
    "   track_sf = dancealong(dance)\n",
    "   background = ask_situation(\"Are you looking for background music, or lyrical music? B/L\\n>\", 'B', 'L')\n",
    "   instrumental = lambda x : track_sf[track_sf['speechiness']<0.2] if x else track_sf[track_sf['speechiness']>0.2]\n",
    "   track_sf = instrumental(background)\n",
    "   return track_sf\n",
    "\n",
    "mood_range = ask_mood()\n",
    "\n",
    "sugggestions = suggestions[(suggestions['valence']+suggestions['energy']+suggestions['liveness']>mood_range[0]) &\n",
    "                          (suggestions['valence']+suggestions['energy']+suggestions['liveness']<mood_range[1])]\n",
    "\n",
    "suggestions = filter_situation()"
   ]
  },
  {
   "cell_type": "code",
   "execution_count": null,
   "id": "8f1fc03a-1aa0-4f81-a296-da0891d88b31",
   "metadata": {},
   "outputs": [],
   "source": [
    "# Sort by popularity\n",
    "suggestions = suggestions.sort_values(by='popularity', ascending=False)"
   ]
  },
  {
   "cell_type": "code",
   "execution_count": null,
   "id": "b32240cd-55c0-47f4-a27b-b735a04d3e3a",
   "metadata": {},
   "outputs": [],
   "source": [
    "print(\"Top 5 song suggestions:\")\n",
    "print(suggestions[['track_name', 'artists', 'album_name']].head())"
   ]
  },
  {
   "cell_type": "code",
   "execution_count": null,
   "id": "bc853a1b-4f50-4c75-a557-0902ce8e53b4",
   "metadata": {},
   "outputs": [],
   "source": [
    "# Function to get recommendations from different clusters\n",
    "def get_different_recommendations(tracks, favorite_cluster, corr):\n",
    "    if favorite_cluster in corr.index:\n",
    "        different_clusters = corr.loc[favorite_cluster].sort_values(ascending=True).index.tolist()\n",
    "        different_clusters.remove(favorite_cluster)\n",
    "        \n",
    "        different_suggestions = tracks[tracks['kmeans_cluster'].isin(different_clusters)].head(10)\n",
    "        return different_suggestions\n",
    "    else:\n",
    "        print(f\"Cluster {favorite_cluster} not found in the correlation matrix.\")\n",
    "        return pd.DataFrame()  # Return an empty DataFrame if the cluster is not found"
   ]
  },
  {
   "cell_type": "code",
   "execution_count": null,
   "id": "930fe6f0-a46f-43da-8cf8-5fcc55910dc7",
   "metadata": {},
   "outputs": [],
   "source": [
    "# Collect feedback\n",
    "def collect_feedback(tracks, user_favorite_cluster, corr):\n",
    "    feedback = input(\"\\nDid you like these recommendations? (yes/no):\\n> \").strip().lower()\n",
    "    if feedback == 'yes':\n",
    "        print(\"\\nGreat!\")\n",
    "    elif feedback == 'no':\n",
    "        print(\"\\nSorry to hear that. Try these songs:\")\n",
    "        different_suggestions = get_different_recommendations(tracks, user_favorite_cluster, corr)\n",
    "        if not different_suggestions.empty:\n",
    "            print(different_suggestions[['track_name', 'artists', 'album_name']])\n",
    "        else:\n",
    "            print(\"No alternative recommendations available.\")\n",
    "    else:\n",
    "        print(\"\\nInvalid input. Please enter 'yes' or 'no'.\")"
   ]
  },
  {
   "cell_type": "code",
   "execution_count": null,
   "id": "0542fa30-511e-4241-acd3-6a11bac5fabd",
   "metadata": {},
   "outputs": [],
   "source": [
    "# Use the feedback function\n",
    "collect_feedback(tracks_df, user_favorite_cluster, corr)"
   ]
  }
 ],
 "metadata": {
  "kernelspec": {
   "display_name": "Python 3 (ipykernel)",
   "language": "python",
   "name": "python3"
  },
  "language_info": {
   "codemirror_mode": {
    "name": "ipython",
    "version": 3
   },
   "file_extension": ".py",
   "mimetype": "text/x-python",
   "name": "python",
   "nbconvert_exporter": "python",
   "pygments_lexer": "ipython3",
   "version": "3.11.7"
  }
 },
 "nbformat": 4,
 "nbformat_minor": 5
}
